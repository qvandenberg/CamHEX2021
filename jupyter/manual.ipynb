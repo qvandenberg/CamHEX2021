{
 "cells": [
  {
   "cell_type": "markdown",
   "metadata": {},
   "source": [
    "# Optibook Manual\n",
    "\n",
    "This notebook contains examples for **all interactions** you can do with optibook (that means inserting orders, getting your positions, etc.). You should use this notebook as a reference/documenation for the system later on when you write more extensive algorithms.\n",
    "\n",
    "First we do some setup and import the optibook client, which is used to connect to the optibook exchange. If everything is setup correctly, you should see the line \"Setup was successful.\" being printed."
   ]
  },
  {
   "cell_type": "code",
   "execution_count": 1,
   "metadata": {},
   "outputs": [
    {
     "name": "stdout",
     "output_type": "stream",
     "text": [
      "Setup was successful.\n"
     ]
    }
   ],
   "source": [
    "from optibook.synchronous_client import Exchange\n",
    "\n",
    "import logging\n",
    "logger = logging.getLogger('client')\n",
    "logger.setLevel('ERROR')\n",
    "\n",
    "print(\"Setup was successful.\")"
   ]
  },
  {
   "cell_type": "markdown",
   "metadata": {},
   "source": [
    "### Define Your Instrument\n",
    "\n",
    "An instrument is the term we use for the 'thing' that we are trading. As such, if we are trading BMW stocks, we would call those an instrument. However, BMW options would be a different instrument. \n",
    "\n",
    "This field determines which instrument we are trading. By changing it, you will insert trades for a different instrument. You can see all available instruments by looking at the dropdown menu labeled \"Instruments\" on the visualizer."
   ]
  },
  {
   "cell_type": "code",
   "execution_count": 2,
   "metadata": {},
   "outputs": [],
   "source": [
    "instrument_id = 'PHILIPS_A'"
   ]
  },
  {
   "cell_type": "markdown",
   "metadata": {},
   "source": [
    "### Connect to Exchange"
   ]
  },
  {
   "cell_type": "code",
   "execution_count": 3,
   "metadata": {},
   "outputs": [
    {
     "name": "stderr",
     "output_type": "stream",
     "text": [
      "2021-01-23 12:45:28,885 [asyncio   ] [MainThread  ] Using selector: EpollSelector\n"
     ]
    }
   ],
   "source": [
    "e = Exchange()\n",
    "a = e.connect()\n",
    "\n",
    "# you can also define host/user/pass yourself\n",
    "# when not defined, it is taken from ~/.optibook file if it exists\n",
    "# if that file does not exists, an error is thrown\n",
    "\n",
    "#e = Exchange(host='host-to-connect-to')\n",
    "#a = e.connect(username='your-username', password='your-password')\n"
   ]
  },
  {
   "cell_type": "markdown",
   "metadata": {},
   "source": [
    "## Outstanding Orders, Trades, Current Positions and PnL"
   ]
  },
  {
   "cell_type": "code",
   "execution_count": 5,
   "metadata": {},
   "outputs": [],
   "source": [
    "# Returns all currently outstanding orders\n",
    "orders = e.get_outstanding_orders(instrument_id)\n",
    "for o in orders.values():\n",
    "    print(o)"
   ]
  },
  {
   "cell_type": "code",
   "execution_count": 13,
   "metadata": {},
   "outputs": [],
   "source": [
    "# Returns all trades you have done since the last time this function was called\n",
    "trades = e.poll_new_trades(instrument_id)\n",
    "for t in trades:\n",
    "    print(f\"[TRADED {t.instrument_id}] price({t.price}), volume({t.volume}), side({t.side})\")"
   ]
  },
  {
   "cell_type": "code",
   "execution_count": 14,
   "metadata": {},
   "outputs": [],
   "source": [
    "# Returns all trades you have done since since the instantiation of the Exchange\n",
    "trades = e.get_trade_history(instrument_id)\n",
    "for t in trades:\n",
    "    print(f\"[TRADED {t.instrument_id}] price({t.price}), volume({t.volume}), side({t.side})\")"
   ]
  },
  {
   "cell_type": "code",
   "execution_count": 23,
   "metadata": {},
   "outputs": [
    {
     "name": "stdout",
     "output_type": "stream",
     "text": [
      "PHILIPS_A 1\n",
      "PHILIPS_B 0\n"
     ]
    }
   ],
   "source": [
    "# Returns all current positions\n",
    "positions = e.get_positions()\n",
    "for p in positions:\n",
    "    print(p, positions[p])"
   ]
  },
  {
   "cell_type": "code",
   "execution_count": 17,
   "metadata": {},
   "outputs": [
    {
     "name": "stdout",
     "output_type": "stream",
     "text": [
      "PHILIPS_A {'volume': 0, 'cash': 11.000000000000455}\n",
      "PHILIPS_B {'volume': 0, 'cash': 0.0}\n"
     ]
    }
   ],
   "source": [
    "# Returns all current positions with cash invested\n",
    "positions = e.get_positions_and_cash()\n",
    "for p in positions:\n",
    "    print(p, positions[p])"
   ]
  },
  {
   "cell_type": "code",
   "execution_count": 10,
   "metadata": {},
   "outputs": [
    {
     "name": "stdout",
     "output_type": "stream",
     "text": [
      "11.000000000000455\n"
     ]
    }
   ],
   "source": [
    "# Returns Current PnL based on last Traded Price\n",
    "pnl = e.get_pnl()\n",
    "print(pnl)"
   ]
  },
  {
   "cell_type": "markdown",
   "metadata": {},
   "source": [
    "## Order Book and Public Trade Ticks"
   ]
  },
  {
   "cell_type": "code",
   "execution_count": null,
   "metadata": {},
   "outputs": [],
   "source": [
    "book = e.get_last_price_book(instrument_id)\n",
    "print(book)\n"
   ]
  },
  {
   "cell_type": "code",
   "execution_count": 48,
   "metadata": {},
   "outputs": [
    {
     "name": "stdout",
     "output_type": "stream",
     "text": [
      "[PHILIPS_A] price(65.2), time(2021-01-23 13:05:48), volume(1), aggressor_side(ask), buyer(), seller()\n"
     ]
    }
   ],
   "source": [
    "# Returns all public tradeticks since the last time this function was called\n",
    "tradeticks = e.poll_new_trade_ticks(instrument_id)\n",
    "\n",
    "# print(\"Tradeticks attributes: \", dir(tradeticks[0]))\n",
    "\n",
    "for t in tradeticks:\n",
    "    print(f\"[{t.instrument_id}] price({t.price}), time({t.timestamp}), volume({t.volume}), aggressor_side({t.aggressor_side}), buyer({t.buyer}), seller({t.seller})\")"
   ]
  },
  {
   "cell_type": "code",
   "execution_count": 43,
   "metadata": {},
   "outputs": [],
   "source": [
    "# Returns all public tradeticks since the instantiation of the Exchange\n",
    "tradeticks = e.get_trade_tick_history(instrument_id)\n",
    "\n",
    "for t in tradeticks:\n",
    "    print(f\"[{t.instrument_id}] price({t.price}), time({t.timestamp}), volume({t.volume}), aggressor_side({t.aggressor_side}), buyer({t.buyer}), seller({t.seller})\")"
   ]
  },
  {
   "cell_type": "code",
   "execution_count": 27,
   "metadata": {},
   "outputs": [
    {
     "name": "stdout",
     "output_type": "stream",
     "text": [
      "Outstanding order: order_id(179591), instrument_id(PHILIPS_A), price(67.10000000000001), volume(1), side(ask)\n"
     ]
    }
   ],
   "source": [
    "# See all your outstanding orders\n",
    "outstanding = e.get_outstanding_orders(instrument_id)\n",
    "for o in outstanding.values():\n",
    "    print(f\"Outstanding order: order_id({o.order_id}), instrument_id({o.instrument_id}), price({o.price}), volume({o.volume}), side({o.side})\")"
   ]
  },
  {
   "cell_type": "markdown",
   "metadata": {},
   "source": [
    "## Inserting and Deleting Orders"
   ]
  },
  {
   "cell_type": "code",
   "execution_count": 22,
   "metadata": {},
   "outputs": [
    {
     "name": "stdout",
     "output_type": "stream",
     "text": [
      "Order Id: 179418\n"
     ]
    }
   ],
   "source": [
    "# Insert bid limit order - This trades against any current orders, and any remainders become new resting orders in the book\n",
    "# Use this to buy.\n",
    "result = e.insert_order(instrument_id, price=67, volume=1, side='bid', order_type='limit')\n",
    "print(f\"Order Id: {result}\")"
   ]
  },
  {
   "cell_type": "code",
   "execution_count": 25,
   "metadata": {},
   "outputs": [
    {
     "name": "stdout",
     "output_type": "stream",
     "text": [
      "Order Id: 180029\n"
     ]
    }
   ],
   "source": [
    "# Insert ask limit order - This trades against any current orders, and any remainders become new resting orders in the book\n",
    "# Use this to sell.\n",
    "result = e.insert_order(instrument_id, price=66.0, volume=1, side='ask', order_type='limit')\n",
    "print(f\"Order Id: {result}\")"
   ]
  },
  {
   "cell_type": "code",
   "execution_count": 19,
   "metadata": {},
   "outputs": [
    {
     "name": "stdout",
     "output_type": "stream",
     "text": [
      "Order Id: 179331\n"
     ]
    }
   ],
   "source": [
    "# Insert bid IOC - This can trade against any resting volume but does not remain in the book\n",
    "# Use this to buy.\n",
    "result = e.insert_order(instrument_id, price=67.0, volume=1, side='bid', order_type='ioc')\n",
    "print(f\"Order Id: {result}\")"
   ]
  },
  {
   "cell_type": "code",
   "execution_count": null,
   "metadata": {},
   "outputs": [],
   "source": [
    "# Insert ask IOC - This can trade against any resting volume but does not remain in the book\n",
    "# Use this to sell.\n",
    "result = e.insert_order(instrument_id, price=430.0, volume=1, side='ask', order_type='ioc')\n",
    "print(f\"Order Id: {result}\")"
   ]
  },
  {
   "cell_type": "code",
   "execution_count": 28,
   "metadata": {},
   "outputs": [
    {
     "name": "stdout",
     "output_type": "stream",
     "text": [
      "\n",
      "Deleted order id 179591: True\n"
     ]
    }
   ],
   "source": [
    "# Attempt to delete inserted order by order_id\n",
    "order_id = 179591\n",
    "result = e.delete_order(instrument_id, order_id=order_id)\n",
    "print()\n",
    "print(f\"Deleted order id {order_id}: {result}\")"
   ]
  },
  {
   "cell_type": "code",
   "execution_count": null,
   "metadata": {},
   "outputs": [],
   "source": [
    "# Change volume for existing order\n",
    "order_id = 5\n",
    "new_volume = 16\n",
    "result = e.amend_order(instrument_id, order_id=order_id, volume=new_volume)\n",
    "print(f\"Changed volume for order id {order_id} to {new_volume} lots: {result}\")"
   ]
  },
  {
   "cell_type": "code",
   "execution_count": null,
   "metadata": {},
   "outputs": [],
   "source": [
    "# Delete all outstanding orders\n",
    "outstanding = e.get_outstanding_orders(instrument_id)\n",
    "for o in outstanding.values():\n",
    "    result = e.delete_order(instrument_id, order_id=o.order_id)\n",
    "    print(f\"Deleted order id {o.order_id}: {result}\")"
   ]
  },
  {
   "cell_type": "markdown",
   "metadata": {},
   "source": [
    "## 'Hack' Out of Positions"
   ]
  },
  {
   "cell_type": "code",
   "execution_count": null,
   "metadata": {},
   "outputs": [],
   "source": [
    "# Get out of all positions you are currently holding, regarless of the loss involved. That means selling whatever\n",
    "# you are long, and buying-back whatever you are short. Be sure you know what you are doing when you use this logic.\n",
    "print(e.get_positions())\n",
    "for s, p in e.get_positions().items():\n",
    "    if p > 0:\n",
    "        e.insert_order(s, price=1, volume=p, side='ask', order_type='ioc')\n",
    "    elif p < 0:\n",
    "        e.insert_order(s, price=100000, volume=-p, side='bid', order_type='ioc')  \n",
    "print(e.get_positions())"
   ]
  },
  {
   "cell_type": "code",
   "execution_count": 29,
   "metadata": {},
   "outputs": [
    {
     "name": "stdout",
     "output_type": "stream",
     "text": [
      "Profit and loss:  10.200000000000458\n"
     ]
    }
   ],
   "source": [
    "print(\"Profit and loss: \", e.get_pnl())"
   ]
  },
  {
   "cell_type": "code",
   "execution_count": null,
   "metadata": {},
   "outputs": [],
   "source": []
  }
 ],
 "metadata": {
  "kernelspec": {
   "display_name": "Python 3",
   "language": "python",
   "name": "python3"
  },
  "language_info": {
   "codemirror_mode": {
    "name": "ipython",
    "version": 3
   },
   "file_extension": ".py",
   "mimetype": "text/x-python",
   "name": "python",
   "nbconvert_exporter": "python",
   "pygments_lexer": "ipython3",
   "version": "3.6.12"
  }
 },
 "nbformat": 4,
 "nbformat_minor": 4
}
